{
 "cells": [
  {
   "cell_type": "markdown",
   "metadata": {},
   "source": [
    "First, we need to read the data. I'll load the HEF and header data into pandas dataframes."
   ]
  },
  {
   "cell_type": "code",
   "execution_count": 146,
   "metadata": {
    "collapsed": false
   },
   "outputs": [],
   "source": [
    "import os\n",
    "import h5py\n",
    "import numpy as np\n",
    "import pandas as pd\n",
    "from ntplib import system_to_ntp_time\n",
    "\n",
    "pd.set_option('display.notebook_repr_html', True)\n",
    "\n",
    "NTP_DIFF = system_to_ntp_time(0)\n",
    "\n",
    "hef_file = os.path.join('data', 'horizontal_electric_field.nc')\n",
    "header_file = os.path.join('data', 'hpies_data_header.nc')\n",
    "\n",
    "def netcdf_to_pandas(path):\n",
    "    h5file = h5py.File(path)\n",
    "    times = h5file['time'].value\n",
    "    times = times - NTP_DIFF\n",
    "    times = pd.to_datetime(times, unit='s')\n",
    "    data = {}\n",
    "    for group in h5file:\n",
    "        if group == 'time':\n",
    "            continue\n",
    "        for var in h5file[group]:\n",
    "            if 'timestamp' in var:\n",
    "                continue\n",
    "            data[var] = h5file[group][var].value\n",
    "    return pd.DataFrame(data, index=times)\n",
    "    \n",
    "hef_df = netcdf_to_pandas(hef_file)\n",
    "header_df = netcdf_to_pandas(header_file)"
   ]
  },
  {
   "cell_type": "markdown",
   "metadata": {},
   "source": [
    "Now, we can check the contents."
   ]
  },
  {
   "cell_type": "code",
   "execution_count": 147,
   "metadata": {
    "collapsed": false
   },
   "outputs": [
    {
     "data": {
      "text/plain": [
       "(12009, 252)"
      ]
     },
     "execution_count": 147,
     "metadata": {},
     "output_type": "execute_result"
    }
   ],
   "source": [
    "len(hef_df), len(header_df)"
   ]
  },
  {
   "cell_type": "markdown",
   "metadata": {},
   "source": [
    "We have lots of HEF data and header data at around 1/50th the data rate. Let's re-index the header data to the same time series as the HEF data, forward filling the missing data points (using the last seen value)."
   ]
  },
  {
   "cell_type": "code",
   "execution_count": 148,
   "metadata": {
    "collapsed": false
   },
   "outputs": [
    {
     "data": {
      "text/plain": [
       "12009"
      ]
     },
     "execution_count": 148,
     "metadata": {},
     "output_type": "execute_result"
    }
   ],
   "source": [
    "header_df = header_df.reindex(index=hef_df.index, method='ffill')\n",
    "len(header_df)"
   ]
  },
  {
   "cell_type": "markdown",
   "metadata": {},
   "source": [
    "Now the time series for both datasets match, let's join the two dataframes:"
   ]
  },
  {
   "cell_type": "code",
   "execution_count": 149,
   "metadata": {
    "collapsed": false
   },
   "outputs": [
    {
     "data": {
      "text/plain": [
       "12009"
      ]
     },
     "execution_count": 149,
     "metadata": {},
     "output_type": "execute_result"
    }
   ],
   "source": [
    "joined = hef_df.join(header_df, rsuffix='_header')\n",
    "len(joined)"
   ]
  },
  {
   "cell_type": "markdown",
   "metadata": {},
   "source": [
    "Now joined contains the combination of the HEF data and header data. We now have a hpies_hcno value for all data points in the HEF data:"
   ]
  },
  {
   "cell_type": "code",
   "execution_count": 150,
   "metadata": {
    "collapsed": false
   },
   "outputs": [
    {
     "data": {
      "text/html": [
       "<div style=\"max-height:1000px;max-width:1500px;overflow:auto;\">\n",
       "<table border=\"1\" class=\"dataframe\">\n",
       "  <thead>\n",
       "    <tr style=\"text-align: right;\">\n",
       "      <th></th>\n",
       "      <th>hpies_hcno</th>\n",
       "      <th>hpies_eindex</th>\n",
       "    </tr>\n",
       "  </thead>\n",
       "  <tbody>\n",
       "    <tr>\n",
       "      <th>2015-04-29 14:21:08.658715</th>\n",
       "      <td>0</td>\n",
       "      <td>9</td>\n",
       "    </tr>\n",
       "    <tr>\n",
       "      <th>2015-04-29 14:21:08.708307</th>\n",
       "      <td>0</td>\n",
       "      <td>19</td>\n",
       "    </tr>\n",
       "    <tr>\n",
       "      <th>2015-04-29 14:21:08.766100</th>\n",
       "      <td>0</td>\n",
       "      <td>29</td>\n",
       "    </tr>\n",
       "    <tr>\n",
       "      <th>2015-04-29 14:21:08.825862</th>\n",
       "      <td>0</td>\n",
       "      <td>39</td>\n",
       "    </tr>\n",
       "    <tr>\n",
       "      <th>2015-04-29 14:21:08.887132</th>\n",
       "      <td>0</td>\n",
       "      <td>49</td>\n",
       "    </tr>\n",
       "    <tr>\n",
       "      <th>2015-04-29 14:21:08.947684</th>\n",
       "      <td>0</td>\n",
       "      <td>59</td>\n",
       "    </tr>\n",
       "    <tr>\n",
       "      <th>2015-04-29 14:21:09.009053</th>\n",
       "      <td>0</td>\n",
       "      <td>69</td>\n",
       "    </tr>\n",
       "    <tr>\n",
       "      <th>2015-04-29 14:21:09.069960</th>\n",
       "      <td>0</td>\n",
       "      <td>79</td>\n",
       "    </tr>\n",
       "    <tr>\n",
       "      <th>2015-04-29 14:21:09.131373999</th>\n",
       "      <td>0</td>\n",
       "      <td>89</td>\n",
       "    </tr>\n",
       "    <tr>\n",
       "      <th>2015-04-29 14:21:09.191834</th>\n",
       "      <td>0</td>\n",
       "      <td>99</td>\n",
       "    </tr>\n",
       "    <tr>\n",
       "      <th>2015-04-29 14:21:09.253042</th>\n",
       "      <td>0</td>\n",
       "      <td>109</td>\n",
       "    </tr>\n",
       "    <tr>\n",
       "      <th>2015-04-29 14:21:09.318136</th>\n",
       "      <td>0</td>\n",
       "      <td>119</td>\n",
       "    </tr>\n",
       "    <tr>\n",
       "      <th>2015-04-29 14:21:09.379428</th>\n",
       "      <td>0</td>\n",
       "      <td>129</td>\n",
       "    </tr>\n",
       "    <tr>\n",
       "      <th>2015-04-29 14:21:09.440475</th>\n",
       "      <td>0</td>\n",
       "      <td>139</td>\n",
       "    </tr>\n",
       "    <tr>\n",
       "      <th>2015-04-29 14:21:09.505502</th>\n",
       "      <td>0</td>\n",
       "      <td>149</td>\n",
       "    </tr>\n",
       "    <tr>\n",
       "      <th>2015-04-29 14:21:09.566555</th>\n",
       "      <td>0</td>\n",
       "      <td>159</td>\n",
       "    </tr>\n",
       "    <tr>\n",
       "      <th>2015-04-29 14:21:09.627611</th>\n",
       "      <td>0</td>\n",
       "      <td>169</td>\n",
       "    </tr>\n",
       "    <tr>\n",
       "      <th>2015-04-29 14:21:09.692813</th>\n",
       "      <td>0</td>\n",
       "      <td>179</td>\n",
       "    </tr>\n",
       "    <tr>\n",
       "      <th>2015-04-29 14:21:09.753664</th>\n",
       "      <td>0</td>\n",
       "      <td>189</td>\n",
       "    </tr>\n",
       "    <tr>\n",
       "      <th>2015-04-29 14:21:09.818702</th>\n",
       "      <td>0</td>\n",
       "      <td>199</td>\n",
       "    </tr>\n",
       "    <tr>\n",
       "      <th>2015-04-29 14:21:09.880041</th>\n",
       "      <td>0</td>\n",
       "      <td>209</td>\n",
       "    </tr>\n",
       "    <tr>\n",
       "      <th>2015-04-29 14:21:09.940811</th>\n",
       "      <td>0</td>\n",
       "      <td>219</td>\n",
       "    </tr>\n",
       "    <tr>\n",
       "      <th>2015-04-29 14:21:10.002160</th>\n",
       "      <td>0</td>\n",
       "      <td>229</td>\n",
       "    </tr>\n",
       "    <tr>\n",
       "      <th>2015-04-29 14:21:10.066776</th>\n",
       "      <td>0</td>\n",
       "      <td>239</td>\n",
       "    </tr>\n",
       "    <tr>\n",
       "      <th>2015-04-29 14:21:10.127924</th>\n",
       "      <td>0</td>\n",
       "      <td>249</td>\n",
       "    </tr>\n",
       "    <tr>\n",
       "      <th>2015-04-29 14:21:10.188960</th>\n",
       "      <td>0</td>\n",
       "      <td>259</td>\n",
       "    </tr>\n",
       "    <tr>\n",
       "      <th>2015-04-29 14:21:10.253843</th>\n",
       "      <td>0</td>\n",
       "      <td>269</td>\n",
       "    </tr>\n",
       "    <tr>\n",
       "      <th>2015-04-29 14:21:10.315128</th>\n",
       "      <td>0</td>\n",
       "      <td>279</td>\n",
       "    </tr>\n",
       "    <tr>\n",
       "      <th>2015-04-29 14:21:10.375850</th>\n",
       "      <td>0</td>\n",
       "      <td>289</td>\n",
       "    </tr>\n",
       "    <tr>\n",
       "      <th>2015-04-29 14:21:10.441085</th>\n",
       "      <td>0</td>\n",
       "      <td>299</td>\n",
       "    </tr>\n",
       "    <tr>\n",
       "      <th>...</th>\n",
       "      <td>...</td>\n",
       "      <td>...</td>\n",
       "    </tr>\n",
       "    <tr>\n",
       "      <th>2015-04-29 14:21:12.993013</th>\n",
       "      <td>0</td>\n",
       "      <td>709</td>\n",
       "    </tr>\n",
       "    <tr>\n",
       "      <th>2015-04-29 14:21:13.053943</th>\n",
       "      <td>0</td>\n",
       "      <td>719</td>\n",
       "    </tr>\n",
       "    <tr>\n",
       "      <th>2015-04-29 14:21:13.118814</th>\n",
       "      <td>0</td>\n",
       "      <td>729</td>\n",
       "    </tr>\n",
       "    <tr>\n",
       "      <th>2015-04-29 14:21:13.179725</th>\n",
       "      <td>0</td>\n",
       "      <td>739</td>\n",
       "    </tr>\n",
       "    <tr>\n",
       "      <th>2015-04-29 14:21:13.240924</th>\n",
       "      <td>0</td>\n",
       "      <td>749</td>\n",
       "    </tr>\n",
       "    <tr>\n",
       "      <th>2015-04-29 14:21:13.306239</th>\n",
       "      <td>0</td>\n",
       "      <td>759</td>\n",
       "    </tr>\n",
       "    <tr>\n",
       "      <th>2015-04-29 14:21:13.366933</th>\n",
       "      <td>0</td>\n",
       "      <td>769</td>\n",
       "    </tr>\n",
       "    <tr>\n",
       "      <th>2015-04-29 14:21:13.428226</th>\n",
       "      <td>0</td>\n",
       "      <td>779</td>\n",
       "    </tr>\n",
       "    <tr>\n",
       "      <th>2015-04-29 14:21:13.493128</th>\n",
       "      <td>0</td>\n",
       "      <td>789</td>\n",
       "    </tr>\n",
       "    <tr>\n",
       "      <th>2015-04-29 14:21:13.554141</th>\n",
       "      <td>0</td>\n",
       "      <td>799</td>\n",
       "    </tr>\n",
       "    <tr>\n",
       "      <th>2015-04-29 14:21:13.615727</th>\n",
       "      <td>0</td>\n",
       "      <td>809</td>\n",
       "    </tr>\n",
       "    <tr>\n",
       "      <th>2015-04-29 14:21:13.676343</th>\n",
       "      <td>0</td>\n",
       "      <td>819</td>\n",
       "    </tr>\n",
       "    <tr>\n",
       "      <th>2015-04-29 14:21:13.741447</th>\n",
       "      <td>0</td>\n",
       "      <td>829</td>\n",
       "    </tr>\n",
       "    <tr>\n",
       "      <th>2015-04-29 14:21:13.806617</th>\n",
       "      <td>0</td>\n",
       "      <td>839</td>\n",
       "    </tr>\n",
       "    <tr>\n",
       "      <th>2015-04-29 14:21:13.867418</th>\n",
       "      <td>0</td>\n",
       "      <td>849</td>\n",
       "    </tr>\n",
       "    <tr>\n",
       "      <th>2015-04-29 14:21:13.928800</th>\n",
       "      <td>0</td>\n",
       "      <td>859</td>\n",
       "    </tr>\n",
       "    <tr>\n",
       "      <th>2015-04-29 14:21:13.989206</th>\n",
       "      <td>0</td>\n",
       "      <td>869</td>\n",
       "    </tr>\n",
       "    <tr>\n",
       "      <th>2015-04-29 14:23:08.656323</th>\n",
       "      <td>1</td>\n",
       "      <td>9</td>\n",
       "    </tr>\n",
       "    <tr>\n",
       "      <th>2015-04-29 14:23:08.711269</th>\n",
       "      <td>1</td>\n",
       "      <td>19</td>\n",
       "    </tr>\n",
       "    <tr>\n",
       "      <th>2015-04-29 14:23:08.772865</th>\n",
       "      <td>1</td>\n",
       "      <td>29</td>\n",
       "    </tr>\n",
       "    <tr>\n",
       "      <th>2015-04-29 14:23:08.829478</th>\n",
       "      <td>1</td>\n",
       "      <td>39</td>\n",
       "    </tr>\n",
       "    <tr>\n",
       "      <th>2015-04-29 14:23:08.890793</th>\n",
       "      <td>1</td>\n",
       "      <td>49</td>\n",
       "    </tr>\n",
       "    <tr>\n",
       "      <th>2015-04-29 14:23:08.951989</th>\n",
       "      <td>1</td>\n",
       "      <td>59</td>\n",
       "    </tr>\n",
       "    <tr>\n",
       "      <th>2015-04-29 14:23:09.012913</th>\n",
       "      <td>1</td>\n",
       "      <td>69</td>\n",
       "    </tr>\n",
       "    <tr>\n",
       "      <th>2015-04-29 14:23:09.073828</th>\n",
       "      <td>1</td>\n",
       "      <td>79</td>\n",
       "    </tr>\n",
       "    <tr>\n",
       "      <th>2015-04-29 14:23:09.134331</th>\n",
       "      <td>1</td>\n",
       "      <td>89</td>\n",
       "    </tr>\n",
       "    <tr>\n",
       "      <th>2015-04-29 14:23:09.195723</th>\n",
       "      <td>1</td>\n",
       "      <td>99</td>\n",
       "    </tr>\n",
       "    <tr>\n",
       "      <th>2015-04-29 14:23:09.260805</th>\n",
       "      <td>1</td>\n",
       "      <td>109</td>\n",
       "    </tr>\n",
       "    <tr>\n",
       "      <th>2015-04-29 14:23:09.321782</th>\n",
       "      <td>1</td>\n",
       "      <td>119</td>\n",
       "    </tr>\n",
       "    <tr>\n",
       "      <th>2015-04-29 14:23:09.383081</th>\n",
       "      <td>1</td>\n",
       "      <td>129</td>\n",
       "    </tr>\n",
       "  </tbody>\n",
       "</table>\n",
       "<p>100 rows × 2 columns</p>\n",
       "</div>"
      ],
      "text/plain": [
       "                               hpies_hcno  hpies_eindex\n",
       "2015-04-29 14:21:08.658715              0             9\n",
       "2015-04-29 14:21:08.708307              0            19\n",
       "2015-04-29 14:21:08.766100              0            29\n",
       "2015-04-29 14:21:08.825862              0            39\n",
       "2015-04-29 14:21:08.887132              0            49\n",
       "2015-04-29 14:21:08.947684              0            59\n",
       "2015-04-29 14:21:09.009053              0            69\n",
       "2015-04-29 14:21:09.069960              0            79\n",
       "2015-04-29 14:21:09.131373999           0            89\n",
       "2015-04-29 14:21:09.191834              0            99\n",
       "2015-04-29 14:21:09.253042              0           109\n",
       "2015-04-29 14:21:09.318136              0           119\n",
       "2015-04-29 14:21:09.379428              0           129\n",
       "2015-04-29 14:21:09.440475              0           139\n",
       "2015-04-29 14:21:09.505502              0           149\n",
       "2015-04-29 14:21:09.566555              0           159\n",
       "2015-04-29 14:21:09.627611              0           169\n",
       "2015-04-29 14:21:09.692813              0           179\n",
       "2015-04-29 14:21:09.753664              0           189\n",
       "2015-04-29 14:21:09.818702              0           199\n",
       "2015-04-29 14:21:09.880041              0           209\n",
       "2015-04-29 14:21:09.940811              0           219\n",
       "2015-04-29 14:21:10.002160              0           229\n",
       "2015-04-29 14:21:10.066776              0           239\n",
       "2015-04-29 14:21:10.127924              0           249\n",
       "2015-04-29 14:21:10.188960              0           259\n",
       "2015-04-29 14:21:10.253843              0           269\n",
       "2015-04-29 14:21:10.315128              0           279\n",
       "2015-04-29 14:21:10.375850              0           289\n",
       "2015-04-29 14:21:10.441085              0           299\n",
       "...                                   ...           ...\n",
       "2015-04-29 14:21:12.993013              0           709\n",
       "2015-04-29 14:21:13.053943              0           719\n",
       "2015-04-29 14:21:13.118814              0           729\n",
       "2015-04-29 14:21:13.179725              0           739\n",
       "2015-04-29 14:21:13.240924              0           749\n",
       "2015-04-29 14:21:13.306239              0           759\n",
       "2015-04-29 14:21:13.366933              0           769\n",
       "2015-04-29 14:21:13.428226              0           779\n",
       "2015-04-29 14:21:13.493128              0           789\n",
       "2015-04-29 14:21:13.554141              0           799\n",
       "2015-04-29 14:21:13.615727              0           809\n",
       "2015-04-29 14:21:13.676343              0           819\n",
       "2015-04-29 14:21:13.741447              0           829\n",
       "2015-04-29 14:21:13.806617              0           839\n",
       "2015-04-29 14:21:13.867418              0           849\n",
       "2015-04-29 14:21:13.928800              0           859\n",
       "2015-04-29 14:21:13.989206              0           869\n",
       "2015-04-29 14:23:08.656323              1             9\n",
       "2015-04-29 14:23:08.711269              1            19\n",
       "2015-04-29 14:23:08.772865              1            29\n",
       "2015-04-29 14:23:08.829478              1            39\n",
       "2015-04-29 14:23:08.890793              1            49\n",
       "2015-04-29 14:23:08.951989              1            59\n",
       "2015-04-29 14:23:09.012913              1            69\n",
       "2015-04-29 14:23:09.073828              1            79\n",
       "2015-04-29 14:23:09.134331              1            89\n",
       "2015-04-29 14:23:09.195723              1            99\n",
       "2015-04-29 14:23:09.260805              1           109\n",
       "2015-04-29 14:23:09.321782              1           119\n",
       "2015-04-29 14:23:09.383081              1           129\n",
       "\n",
       "[100 rows x 2 columns]"
      ]
     },
     "execution_count": 150,
     "metadata": {},
     "output_type": "execute_result"
    }
   ],
   "source": [
    "joined.head(100)[['hpies_hcno', 'hpies_eindex']]"
   ]
  },
  {
   "cell_type": "markdown",
   "metadata": {},
   "source": [
    "Let's compute the data rate for the HEF data:"
   ]
  },
  {
   "cell_type": "code",
   "execution_count": 151,
   "metadata": {
    "collapsed": false
   },
   "outputs": [
    {
     "data": {
      "text/plain": [
       "'data rate: 16.32 Hz'"
      ]
     },
     "execution_count": 151,
     "metadata": {},
     "output_type": "execute_result"
    }
   ],
   "source": [
    "data_rate = 1 / np.median(np.diff(joined.index.values).astype('f64') / 1e9)\n",
    "'data rate: %.2f Hz' % data_rate"
   ]
  },
  {
   "cell_type": "markdown",
   "metadata": {},
   "source": [
    "Now, let's compute the storage requirements for the lifetime of the project if we are to add just one single 32-bit integer to each HEF particle:"
   ]
  },
  {
   "cell_type": "code",
   "execution_count": 152,
   "metadata": {
    "collapsed": false
   },
   "outputs": [
    {
     "data": {
      "text/plain": [
       "'Expected storage cost for adding one int to each particle: 51.48 GB'"
      ]
     },
     "execution_count": 152,
     "metadata": {},
     "output_type": "execute_result"
    }
   ],
   "source": [
    "one_day = data_rate * 60 * 60 * 24\n",
    "one_year = one_day * 365\n",
    "project_lifetime = one_year * 25\n",
    "int_storage = project_lifetime * 4 / 1e9\n",
    "'Expected storage cost for adding one int to each particle: %.2f GB' % int_storage "
   ]
  },
  {
   "cell_type": "markdown",
   "metadata": {},
   "source": [
    "So, by storing the header data separately and putting the onus on the user to combine the datasets we save over 51 GB (just for the hcno data alone.)\n",
    "\n",
    "Now, let's see if we can figure out what went wrong to produce the occasional jump in eindex."
   ]
  },
  {
   "cell_type": "code",
   "execution_count": 153,
   "metadata": {
    "collapsed": false
   },
   "outputs": [],
   "source": [
    "import ntplib\n",
    "import struct\n",
    "import time\n",
    "import os\n",
    "\n",
    "message_types = ( 'Data From Instrument',\n",
    "                  'Data From Driver',\n",
    "                  'Port Agent Command',\n",
    "                  'Port Agent Status',\n",
    "                  'Port Agent Fault',\n",
    "                  'Instrument Command',\n",
    "                  'Heartbeat',\n",
    "                  'Pickled Data From Instrument',\n",
    "                  'Pickled Data From Driver' )\n",
    "\n",
    "HEADER_FORMAT = '>3sBHHII'\n",
    "SYNC_BYTES = '\\xa3\\x9d\\x7a'\n",
    "raw_data_fh = open(os.path.join('data', 'hpies-port_agent.20150429.data'))\n",
    "raw_data = raw_data_fh.read()"
   ]
  },
  {
   "cell_type": "code",
   "execution_count": 154,
   "metadata": {
    "collapsed": false
   },
   "outputs": [],
   "source": [
    "def ntp_time_to_ascii(tstamp):\n",
    "    return time.asctime(time.gmtime(ntplib.ntp_to_system_time(tstamp)))\n",
    "\n",
    "def parse_header(data):\n",
    "    sync, message_type, packet_size, checksum, time_upper, time_lower = struct.unpack_from(HEADER_FORMAT, data)\n",
    "    timestamp = time_upper + float(time_lower) / 2**32\n",
    "    return message_type, packet_size, checksum, timestamp"
   ]
  },
  {
   "cell_type": "markdown",
   "metadata": {},
   "source": [
    "Data from the instrument is message type 1"
   ]
  },
  {
   "cell_type": "code",
   "execution_count": 155,
   "metadata": {
    "collapsed": true
   },
   "outputs": [],
   "source": [
    "HEADER_SIZE = struct.calcsize(HEADER_FORMAT)\n",
    "packets = []\n",
    "while raw_data:\n",
    "    start = raw_data.find(SYNC_BYTES)\n",
    "    if start == -1:\n",
    "        break\n",
    "    \n",
    "    message_type, packet_size, checksum, timestamp = parse_header(raw_data[start:])\n",
    "    packet = raw_data[start:start+packet_size]\n",
    "    raw_data = raw_data[start+packet_size:]\n",
    "    \n",
    "    if message_type == 1:\n",
    "        packets.append((timestamp, packet))"
   ]
  },
  {
   "cell_type": "code",
   "execution_count": 156,
   "metadata": {
    "collapsed": false
   },
   "outputs": [],
   "source": [
    "import sys\n",
    "NEWLINE = '\\r\\n'\n",
    "records = []\n",
    "buf = ''\n",
    "\n",
    "for index, packet in enumerate(packets):\n",
    "    timestamp, data = packet\n",
    "    if index == 0:\n",
    "        tstamp = timestamp\n",
    "        \n",
    "\n",
    "    buf += data[HEADER_SIZE:]\n",
    "    if NEWLINE in buf:\n",
    "        n_index = buf.index(NEWLINE)\n",
    "        records.append((tstamp, buf[:n_index]))\n",
    "        buf = buf[n_index+len(NEWLINE):]\n",
    "        tstamp = timestamp"
   ]
  },
  {
   "cell_type": "code",
   "execution_count": 157,
   "metadata": {
    "collapsed": false
   },
   "outputs": [
    {
     "data": {
      "text/plain": [
       "24"
      ]
     },
     "execution_count": 157,
     "metadata": {},
     "output_type": "execute_result"
    }
   ],
   "source": [
    "HEF_records = [r for r in records if r[1].startswith('#3__DE')]\n",
    "times = np.array([r[0] for r in HEF_records]) - NTP_DIFF\n",
    "times = pd.to_datetime(times, unit='s')\n",
    "raw_hef_df = pd.DataFrame([r[1] for r in HEF_records], index=times)\n",
    "len(raw_hef_df) - len(joined)"
   ]
  },
  {
   "cell_type": "markdown",
   "metadata": {},
   "source": [
    "There are 24 more records in the source data than the parsed data. This matches the number of jumps:"
   ]
  },
  {
   "cell_type": "code",
   "execution_count": 158,
   "metadata": {
    "collapsed": false
   },
   "outputs": [
    {
     "data": {
      "text/plain": [
       "24"
      ]
     },
     "execution_count": 158,
     "metadata": {},
     "output_type": "execute_result"
    }
   ],
   "source": [
    "eindex = joined.hpies_eindex.values\n",
    "jumps = np.diff(eindex) == 20\n",
    "len(eindex[jumps])"
   ]
  },
  {
   "cell_type": "markdown",
   "metadata": {},
   "source": [
    "so, what's up with these records?\n",
    "\n",
    "Let's build a new jumps indexed to the raw data by inserting another item after each jump..."
   ]
  },
  {
   "cell_type": "code",
   "execution_count": 159,
   "metadata": {
    "collapsed": false
   },
   "outputs": [
    {
     "data": {
      "text/html": [
       "<div style=\"max-height:1000px;max-width:1500px;overflow:auto;\">\n",
       "<table border=\"1\" class=\"dataframe\">\n",
       "  <thead>\n",
       "    <tr style=\"text-align: right;\">\n",
       "      <th></th>\n",
       "      <th>0</th>\n",
       "    </tr>\n",
       "  </thead>\n",
       "  <tbody>\n",
       "    <tr>\n",
       "      <th>2015-04-29 15:33:09.045122</th>\n",
       "      <td>#3__DE 59 396663 397170 397282 397417 396834 397734*2a72</td>\n",
       "    </tr>\n",
       "    <tr>\n",
       "      <th>2015-04-29 15:33:09.106457</th>\n",
       "      <td>#3__DE 69 396672 397189 397303 397438 396820 397744\\r*23f7</td>\n",
       "    </tr>\n",
       "    <tr>\n",
       "      <th>2015-04-29 15:51:09.297572</th>\n",
       "      <td>#3__DE 89 396670 397219 397320 397410 396820 397780*2f49</td>\n",
       "    </tr>\n",
       "    <tr>\n",
       "      <th>2015-04-29 15:51:09.363066</th>\n",
       "      <td>#3__DE 99 396608 397176 397380 397444 396801 397774\\r*f8f6</td>\n",
       "    </tr>\n",
       "    <tr>\n",
       "      <th>2015-04-29 15:59:08.987504</th>\n",
       "      <td>#3__DE 39 396702 397227 397332 397406 396827 397772*0f21</td>\n",
       "    </tr>\n",
       "    <tr>\n",
       "      <th>2015-04-29 15:59:09.123707</th>\n",
       "      <td>#3__DE 49 396688 397234 397354 397451 396786 397788*8ebd</td>\n",
       "    </tr>\n",
       "    <tr>\n",
       "      <th>2015-04-29 16:05:09.367980</th>\n",
       "      <td>#3__DE 89 396630 397215 397357 397455 396827 397783*de97</td>\n",
       "    </tr>\n",
       "    <tr>\n",
       "      <th>2015-04-29 16:05:09.500727999</th>\n",
       "      <td>#3__DE 99 396668 397191 397333 397413 396832 397757*c653</td>\n",
       "    </tr>\n",
       "    <tr>\n",
       "      <th>2015-04-29 16:15:12.684828</th>\n",
       "      <td>#3__DE 629 396631 397200 397350 397442 396814 397777*f296</td>\n",
       "    </tr>\n",
       "    <tr>\n",
       "      <th>2015-04-29 16:15:12.870204</th>\n",
       "      <td>#3__DE 639 396700 397181 397355 397443 396812 397769*ba65</td>\n",
       "    </tr>\n",
       "    <tr>\n",
       "      <th>2015-04-29 16:15:13.975050</th>\n",
       "      <td>#3__DE 829 396666 397248 397361 397433 396817 397777*d887</td>\n",
       "    </tr>\n",
       "    <tr>\n",
       "      <th>2015-04-29 16:15:14.035774</th>\n",
       "      <td>#3__DE 839 396695 397180 397384 397441 396799 397778*3d8d</td>\n",
       "    </tr>\n",
       "    <tr>\n",
       "      <th>2015-04-29 16:19:10.065224</th>\n",
       "      <td>#3__DE 209 396682 397221 397387 397418 396822 397778*98d9</td>\n",
       "    </tr>\n",
       "    <tr>\n",
       "      <th>2015-04-29 16:19:10.132692</th>\n",
       "      <td>#3__DE 219 396693 397250 397330 397445 396807 397762*820a</td>\n",
       "    </tr>\n",
       "    <tr>\n",
       "      <th>2015-04-29 16:19:12.551835</th>\n",
       "      <td>#3__DE 599 396688 397199 397355 397450 396821 397742*8655</td>\n",
       "    </tr>\n",
       "    <tr>\n",
       "      <th>2015-04-29 16:19:12.555627</th>\n",
       "      <td>#3__DE 609 396713 397236 397375 397449 396834 397781*e8f0</td>\n",
       "    </tr>\n",
       "    <tr>\n",
       "      <th>2015-04-29 16:29:14.304653</th>\n",
       "      <td>#3__DE 889 396665 397201 397372 397452 396819 397772*ec40</td>\n",
       "    </tr>\n",
       "    <tr>\n",
       "      <th>2015-04-29 16:29:14.436729</th>\n",
       "      <td>#3__DE 899 396677 397319 397355 397451 396799 397770*e6b6</td>\n",
       "    </tr>\n",
       "    <tr>\n",
       "      <th>2015-04-29 16:37:13.759633</th>\n",
       "      <td>#3__DE 779 396601 397222 397323 397441 396826 397786*e95c</td>\n",
       "    </tr>\n",
       "    <tr>\n",
       "      <th>2015-04-29 16:37:13.830661</th>\n",
       "      <td>#3__DE 789 396698 397210 397333 397431 396833 397764*3724</td>\n",
       "    </tr>\n",
       "    <tr>\n",
       "      <th>2015-04-29 16:45:10.405998</th>\n",
       "      <td>#3__DE 259 396683 397220 397320 397421 396790 397779*f27f</td>\n",
       "    </tr>\n",
       "    <tr>\n",
       "      <th>2015-04-29 16:45:10.550904</th>\n",
       "      <td>#3__DE 269 396623 397219 397340 397446 396834 397793*1f17</td>\n",
       "    </tr>\n",
       "    <tr>\n",
       "      <th>2015-04-29 16:53:09.252755999</th>\n",
       "      <td>#3__DE 49 396662 397230 397321 397439 396823 397771*0356</td>\n",
       "    </tr>\n",
       "    <tr>\n",
       "      <th>2015-04-29 16:53:09.256195</th>\n",
       "      <td>#3__DE 59 396660 397197 397310 397424 396799 397783*23f7</td>\n",
       "    </tr>\n",
       "    <tr>\n",
       "      <th>2015-04-29 16:59:09.394574</th>\n",
       "      <td>#3__DE 89 396702 397214 397370 397436 396798 397783*17bc</td>\n",
       "    </tr>\n",
       "    <tr>\n",
       "      <th>2015-04-29 16:59:09.455009</th>\n",
       "      <td>#3__DE 99 396658 397211 397384 397439 396827 397790\\r*e0e9</td>\n",
       "    </tr>\n",
       "    <tr>\n",
       "      <th>2015-04-29 17:17:11.879393</th>\n",
       "      <td>#3__DE 489 396715 397154 397360 397457 396801 397803*3c41</td>\n",
       "    </tr>\n",
       "    <tr>\n",
       "      <th>2015-04-29 17:17:12.007452</th>\n",
       "      <td>#3__DE 499 396680 397249 397359 397413 396781 397762*4c13</td>\n",
       "    </tr>\n",
       "    <tr>\n",
       "      <th>2015-04-29 17:19:11.738710</th>\n",
       "      <td>#3__DE 459 396679 397205 397357 397471 396804 397773*be95</td>\n",
       "    </tr>\n",
       "    <tr>\n",
       "      <th>2015-04-29 17:19:11.742570</th>\n",
       "      <td>#3__DE 469 396657 397216 397342 397431 396826 397782*6d9b</td>\n",
       "    </tr>\n",
       "    <tr>\n",
       "      <th>2015-04-29 17:39:14.171886</th>\n",
       "      <td>#3__DE 849 396676 397227 397358 397412 396808 397801*2c1e</td>\n",
       "    </tr>\n",
       "    <tr>\n",
       "      <th>2015-04-29 17:39:14.310836</th>\n",
       "      <td>#3__DE 859 396650 397186 397338 397407 396816 397775*2f69</td>\n",
       "    </tr>\n",
       "    <tr>\n",
       "      <th>2015-04-29 17:43:09.832230</th>\n",
       "      <td>#3__DE 139 396658 397208 397362 397445 396822 397793*4db8</td>\n",
       "    </tr>\n",
       "    <tr>\n",
       "      <th>2015-04-29 17:43:09.836858</th>\n",
       "      <td>#3__DE 149 396724 397187 397360 397480 396823 397747*d9f8</td>\n",
       "    </tr>\n",
       "    <tr>\n",
       "      <th>2015-04-29 18:05:13.977414</th>\n",
       "      <td>#3__DE 799 396695 397220 397360 397420 396820 397768*1748</td>\n",
       "    </tr>\n",
       "    <tr>\n",
       "      <th>2015-04-29 18:05:14.109137</th>\n",
       "      <td>#3__DE 809 396676 397230 397354 397466 396796 397771*075e</td>\n",
       "    </tr>\n",
       "    <tr>\n",
       "      <th>2015-04-29 18:39:14.808507</th>\n",
       "      <td>#3__DE 929 396691 397223 397366 397394 396807 397775*aaa6</td>\n",
       "    </tr>\n",
       "    <tr>\n",
       "      <th>2015-04-29 18:39:14.813237</th>\n",
       "      <td>#3__DE 939 396696 397223 397374 397486 396815 397770*db0b</td>\n",
       "    </tr>\n",
       "    <tr>\n",
       "      <th>2015-04-29 18:53:09.611510</th>\n",
       "      <td>#3__DE 99 396653 397171 397364 397479 396850 397753*97a3</td>\n",
       "    </tr>\n",
       "    <tr>\n",
       "      <th>2015-04-29 18:53:09.668377</th>\n",
       "      <td>#3__DE 109 396706 397248 397309 397469 396847 397777\\r*57e4</td>\n",
       "    </tr>\n",
       "    <tr>\n",
       "      <th>2015-04-29 18:53:11.228877</th>\n",
       "      <td>#3__DE 349 396655 397220 397361 397479 396855 397801*9470</td>\n",
       "    </tr>\n",
       "    <tr>\n",
       "      <th>2015-04-29 18:53:11.232502</th>\n",
       "      <td>#3__DE 359 396670 397208 397342 397444 396824 397780*6bb6</td>\n",
       "    </tr>\n",
       "    <tr>\n",
       "      <th>2015-04-29 19:03:09.612759</th>\n",
       "      <td>#3__DE 99 396655 397203 397374 397444 396817 397784*7cf0</td>\n",
       "    </tr>\n",
       "    <tr>\n",
       "      <th>2015-04-29 19:03:09.670427</th>\n",
       "      <td>#3__DE 109 396635 397174 397390 397503 396827 397773\\r*2c2f</td>\n",
       "    </tr>\n",
       "    <tr>\n",
       "      <th>2015-04-29 19:23:09.336427</th>\n",
       "      <td>#3__DE 59 396655 397184 397379 397462 396803 397795*79db</td>\n",
       "    </tr>\n",
       "    <tr>\n",
       "      <th>2015-04-29 19:23:09.425629</th>\n",
       "      <td>#3__DE 69 396673 397176 397369 397464 396841 397810*bd1a</td>\n",
       "    </tr>\n",
       "    <tr>\n",
       "      <th>2015-04-29 19:23:12.253867</th>\n",
       "      <td>#3__DE 529 396705 397225 397316 397390 396801 397788*4e4a</td>\n",
       "    </tr>\n",
       "    <tr>\n",
       "      <th>2015-04-29 19:23:12.398894</th>\n",
       "      <td>#3__DE 539 396691 397189 397334 397415 396813 397795*04fe</td>\n",
       "    </tr>\n",
       "  </tbody>\n",
       "</table>\n",
       "</div>"
      ],
      "text/plain": [
       "                                                                                         0\n",
       "2015-04-29 15:33:09.045122        #3__DE 59 396663 397170 397282 397417 396834 397734*2a72\n",
       "2015-04-29 15:33:09.106457      #3__DE 69 396672 397189 397303 397438 396820 397744\\r*23f7\n",
       "2015-04-29 15:51:09.297572        #3__DE 89 396670 397219 397320 397410 396820 397780*2f49\n",
       "2015-04-29 15:51:09.363066      #3__DE 99 396608 397176 397380 397444 396801 397774\\r*f8f6\n",
       "2015-04-29 15:59:08.987504        #3__DE 39 396702 397227 397332 397406 396827 397772*0f21\n",
       "2015-04-29 15:59:09.123707        #3__DE 49 396688 397234 397354 397451 396786 397788*8ebd\n",
       "2015-04-29 16:05:09.367980        #3__DE 89 396630 397215 397357 397455 396827 397783*de97\n",
       "2015-04-29 16:05:09.500727999     #3__DE 99 396668 397191 397333 397413 396832 397757*c653\n",
       "2015-04-29 16:15:12.684828       #3__DE 629 396631 397200 397350 397442 396814 397777*f296\n",
       "2015-04-29 16:15:12.870204       #3__DE 639 396700 397181 397355 397443 396812 397769*ba65\n",
       "2015-04-29 16:15:13.975050       #3__DE 829 396666 397248 397361 397433 396817 397777*d887\n",
       "2015-04-29 16:15:14.035774       #3__DE 839 396695 397180 397384 397441 396799 397778*3d8d\n",
       "2015-04-29 16:19:10.065224       #3__DE 209 396682 397221 397387 397418 396822 397778*98d9\n",
       "2015-04-29 16:19:10.132692       #3__DE 219 396693 397250 397330 397445 396807 397762*820a\n",
       "2015-04-29 16:19:12.551835       #3__DE 599 396688 397199 397355 397450 396821 397742*8655\n",
       "2015-04-29 16:19:12.555627       #3__DE 609 396713 397236 397375 397449 396834 397781*e8f0\n",
       "2015-04-29 16:29:14.304653       #3__DE 889 396665 397201 397372 397452 396819 397772*ec40\n",
       "2015-04-29 16:29:14.436729       #3__DE 899 396677 397319 397355 397451 396799 397770*e6b6\n",
       "2015-04-29 16:37:13.759633       #3__DE 779 396601 397222 397323 397441 396826 397786*e95c\n",
       "2015-04-29 16:37:13.830661       #3__DE 789 396698 397210 397333 397431 396833 397764*3724\n",
       "2015-04-29 16:45:10.405998       #3__DE 259 396683 397220 397320 397421 396790 397779*f27f\n",
       "2015-04-29 16:45:10.550904       #3__DE 269 396623 397219 397340 397446 396834 397793*1f17\n",
       "2015-04-29 16:53:09.252755999     #3__DE 49 396662 397230 397321 397439 396823 397771*0356\n",
       "2015-04-29 16:53:09.256195        #3__DE 59 396660 397197 397310 397424 396799 397783*23f7\n",
       "2015-04-29 16:59:09.394574        #3__DE 89 396702 397214 397370 397436 396798 397783*17bc\n",
       "2015-04-29 16:59:09.455009      #3__DE 99 396658 397211 397384 397439 396827 397790\\r*e0e9\n",
       "2015-04-29 17:17:11.879393       #3__DE 489 396715 397154 397360 397457 396801 397803*3c41\n",
       "2015-04-29 17:17:12.007452       #3__DE 499 396680 397249 397359 397413 396781 397762*4c13\n",
       "2015-04-29 17:19:11.738710       #3__DE 459 396679 397205 397357 397471 396804 397773*be95\n",
       "2015-04-29 17:19:11.742570       #3__DE 469 396657 397216 397342 397431 396826 397782*6d9b\n",
       "2015-04-29 17:39:14.171886       #3__DE 849 396676 397227 397358 397412 396808 397801*2c1e\n",
       "2015-04-29 17:39:14.310836       #3__DE 859 396650 397186 397338 397407 396816 397775*2f69\n",
       "2015-04-29 17:43:09.832230       #3__DE 139 396658 397208 397362 397445 396822 397793*4db8\n",
       "2015-04-29 17:43:09.836858       #3__DE 149 396724 397187 397360 397480 396823 397747*d9f8\n",
       "2015-04-29 18:05:13.977414       #3__DE 799 396695 397220 397360 397420 396820 397768*1748\n",
       "2015-04-29 18:05:14.109137       #3__DE 809 396676 397230 397354 397466 396796 397771*075e\n",
       "2015-04-29 18:39:14.808507       #3__DE 929 396691 397223 397366 397394 396807 397775*aaa6\n",
       "2015-04-29 18:39:14.813237       #3__DE 939 396696 397223 397374 397486 396815 397770*db0b\n",
       "2015-04-29 18:53:09.611510        #3__DE 99 396653 397171 397364 397479 396850 397753*97a3\n",
       "2015-04-29 18:53:09.668377     #3__DE 109 396706 397248 397309 397469 396847 397777\\r*57e4\n",
       "2015-04-29 18:53:11.228877       #3__DE 349 396655 397220 397361 397479 396855 397801*9470\n",
       "2015-04-29 18:53:11.232502       #3__DE 359 396670 397208 397342 397444 396824 397780*6bb6\n",
       "2015-04-29 19:03:09.612759        #3__DE 99 396655 397203 397374 397444 396817 397784*7cf0\n",
       "2015-04-29 19:03:09.670427     #3__DE 109 396635 397174 397390 397503 396827 397773\\r*2c2f\n",
       "2015-04-29 19:23:09.336427        #3__DE 59 396655 397184 397379 397462 396803 397795*79db\n",
       "2015-04-29 19:23:09.425629        #3__DE 69 396673 397176 397369 397464 396841 397810*bd1a\n",
       "2015-04-29 19:23:12.253867       #3__DE 529 396705 397225 397316 397390 396801 397788*4e4a\n",
       "2015-04-29 19:23:12.398894       #3__DE 539 396691 397189 397334 397415 396813 397795*04fe"
      ]
     },
     "execution_count": 159,
     "metadata": {},
     "output_type": "execute_result"
    }
   ],
   "source": [
    "new_jumps = []\n",
    "for jump in jumps:\n",
    "    new_jumps.append(jump)\n",
    "    if jump:\n",
    "        new_jumps.append(True)\n",
    "        \n",
    "new_jumps.append(False)\n",
    "        \n",
    "pd.set_option('max_colwidth',100)\n",
    "jump_df = raw_hef_df[new_jumps]\n",
    "jump_df"
   ]
  },
  {
   "cell_type": "code",
   "execution_count": 160,
   "metadata": {
    "collapsed": false
   },
   "outputs": [
    {
     "data": {
      "text/plain": [
       "2015-04-29 15:33:09.045122        59\n",
       "2015-04-29 15:51:09.302055        89\n",
       "2015-04-29 15:59:08.991716        39\n",
       "2015-04-29 16:05:09.367980        89\n",
       "2015-04-29 16:15:12.688811       629\n",
       "2015-04-29 16:15:13.975050       829\n",
       "2015-04-29 16:19:10.132692       209\n",
       "2015-04-29 16:19:12.551835       599\n",
       "2015-04-29 16:29:14.309592       889\n",
       "2015-04-29 16:37:13.759633       779\n",
       "2015-04-29 16:45:10.409904       259\n",
       "2015-04-29 16:53:09.252755999     49\n",
       "2015-04-29 16:59:09.398863        89\n",
       "2015-04-29 17:17:11.879393       489\n",
       "2015-04-29 17:19:11.738710       459\n",
       "2015-04-29 17:39:14.174500       849\n",
       "2015-04-29 17:43:09.832230       139\n",
       "2015-04-29 18:05:13.977414       799\n",
       "2015-04-29 18:39:14.808507       929\n",
       "2015-04-29 18:53:09.611510        99\n",
       "2015-04-29 18:53:11.228877       349\n",
       "2015-04-29 19:03:09.612759        99\n",
       "2015-04-29 19:23:09.425629        59\n",
       "2015-04-29 19:23:12.258533       529\n",
       "Name: hpies_eindex, dtype: int64"
      ]
     },
     "execution_count": 160,
     "metadata": {},
     "output_type": "execute_result"
    }
   ],
   "source": [
    "joined.hpies_eindex[jumps]"
   ]
  },
  {
   "cell_type": "markdown",
   "metadata": {},
   "source": [
    "These seem to line up as expected.\n",
    "\n",
    "We've already identified this data as problematic for the parser:\n",
    "\n",
    "`#3__DE 69 396672 397189 397303 397438 396820 397744\\\\r*23f7`\n",
    "\n",
    "We'll need to check why this record is failing:\n",
    "\n",
    "`#3__DE 49 396688 397234 397354 397451 396786 397788*8ebd`"
   ]
  },
  {
   "cell_type": "code",
   "execution_count": 177,
   "metadata": {
    "collapsed": false
   },
   "outputs": [
    {
     "data": {
      "text/plain": [
       "True"
      ]
     },
     "execution_count": 177,
     "metadata": {},
     "output_type": "execute_result"
    }
   ],
   "source": [
    "def crc3kerm(buf):\n",
    "    \"\"\"\n",
    "    Compute the Kermit checksum on @a buf\n",
    "    \"\"\"\n",
    "    crcta = [0, 4225, 8450, 12675, 16900, 21125, 25350, 29575,\n",
    "             33800, 38025, 42250, 46475, 50700, 54925, 59150, 63375]\n",
    "    crctb = [0, 4489, 8978, 12955, 17956, 22445, 25910, 29887,\n",
    "             35912, 40385, 44890, 48851, 51820, 56293, 59774, 63735]\n",
    "    crc = 0\n",
    "    for i in range(0, len(buf)):\n",
    "        c = crc ^ ord(buf[i])\n",
    "        hi4 = (c & 240) >> 4\n",
    "        lo4 = c & 15\n",
    "        crc = (crc >> 8) ^ (crcta[hi4] ^ crctb[lo4])\n",
    "    return crc\n",
    "\n",
    "\n",
    "def chksumnmea(s):\n",
    "    xor = 0\n",
    "    for i in range(0, len(s)):\n",
    "        xor ^= ord(s[i])\n",
    "    return xor\n",
    "\n",
    "def good_checksum(data):\n",
    "    response, crc_str = raw.split('*')\n",
    "    crc = int(crc_str, 16)\n",
    "    calc_crc = crc3kerm(response)\n",
    "    return crc == calc_crc\n",
    "\n",
    "raw = jump_df.iloc[5].values[0]\n",
    "good_checksum(raw)"
   ]
  },
  {
   "cell_type": "markdown",
   "metadata": {},
   "source": [
    "CRC is good... so why did this fail?\n",
    "\n",
    "Do we have any checksum failures, maybe my indexing is wrong..."
   ]
  },
  {
   "cell_type": "code",
   "execution_count": 179,
   "metadata": {
    "collapsed": false
   },
   "outputs": [
    {
     "data": {
      "text/plain": [
       "[]"
      ]
     },
     "execution_count": 179,
     "metadata": {},
     "output_type": "execute_result"
    }
   ],
   "source": [
    "[each[0] for each in raw_hef_df.values if not good_checksum(each[0])]"
   ]
  },
  {
   "cell_type": "markdown",
   "metadata": {},
   "source": [
    "Nope, all checksums pass..."
   ]
  },
  {
   "cell_type": "code",
   "execution_count": null,
   "metadata": {
    "collapsed": true
   },
   "outputs": [],
   "source": []
  }
 ],
 "metadata": {
  "kernelspec": {
   "display_name": "Python 2",
   "language": "python",
   "name": "python2"
  },
  "language_info": {
   "codemirror_mode": {
    "name": "ipython",
    "version": 2
   },
   "file_extension": ".py",
   "mimetype": "text/x-python",
   "name": "python",
   "nbconvert_exporter": "python",
   "pygments_lexer": "ipython2",
   "version": "2.7.9"
  }
 },
 "nbformat": 4,
 "nbformat_minor": 0
}
